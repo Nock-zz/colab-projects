{
  "nbformat": 4,
  "nbformat_minor": 0,
  "metadata": {
    "colab": {
      "provenance": [],
      "mount_file_id": "13aEfxFdHMuaDA-3OBBRYqKQsg5ZaGz8N",
      "authorship_tag": "ABX9TyMLjDJ38J241+RoQGKvTkC/",
      "include_colab_link": true
    },
    "kernelspec": {
      "name": "python3",
      "display_name": "Python 3"
    },
    "language_info": {
      "name": "python"
    }
  },
  "cells": [
    {
      "cell_type": "markdown",
      "metadata": {
        "id": "view-in-github",
        "colab_type": "text"
      },
      "source": [
        "<a href=\"https://colab.research.google.com/github/Nock-zz/colab-projects/blob/main/BunTest.ipynb\" target=\"_parent\"><img src=\"https://colab.research.google.com/assets/colab-badge.svg\" alt=\"Open In Colab\"/></a>"
      ]
    },
    {
      "cell_type": "code",
      "execution_count": 1,
      "metadata": {
        "colab": {
          "base_uri": "https://localhost:8080/"
        },
        "id": "8-g2U-0YsRzK",
        "outputId": "4e9c8518-9dfa-453a-951b-69c7fa4360b6"
      },
      "outputs": [
        {
          "output_type": "stream",
          "name": "stdout",
          "text": [
            "######################################################################## 100.0%\n",
            "\u001b[0;32mbun was installed successfully to \u001b[1;32m~/.bun/bin/bun \u001b[0m\n",
            "\n",
            "\u001b[0;2mAdded \"~/.bun/bin\" to $PATH in \"~/.bashrc\" \u001b[0m\n",
            "\n",
            "\u001b[0;2mTo get started, run: \u001b[0m\n",
            "\n",
            "\u001b[1m  source /root/.bashrc \u001b[0m\n",
            "\u001b[1m  bun --help \u001b[0m\n"
          ]
        }
      ],
      "source": [
        "# install bun\n",
        "! curl -fsSL https://bun.sh/install | bash\n"
      ]
    },
    {
      "cell_type": "code",
      "source": [
        "! echo $PATH\n",
        "\n",
        "import os\n",
        "os.environ['PATH'] += \":/root/.bun/bin\"\n",
        "\n",
        "! which bun\n",
        "! bun --version\n",
        "%cd /content/\n",
        "! mkdir bun-projects\n",
        "%cd bun-projects\n",
        "! pwd"
      ],
      "metadata": {
        "colab": {
          "base_uri": "https://localhost:8080/"
        },
        "id": "v6vRVqZcglR5",
        "outputId": "3f400d0d-864a-494d-c4bf-9fca43c8c07f"
      },
      "execution_count": 5,
      "outputs": [
        {
          "output_type": "stream",
          "name": "stdout",
          "text": [
            "/opt/bin:/usr/local/nvidia/bin:/usr/local/cuda/bin:/usr/local/sbin:/usr/local/bin:/usr/sbin:/usr/bin:/sbin:/bin:/tools/node/bin:/tools/google-cloud-sdk/bin\n",
            "/root/.bun/bin/bun\n",
            "1.0.3\n",
            "/content\n",
            "mkdir: cannot create directory ‘bun-projects’: File exists\n",
            "/content/bun-projects\n",
            "/content/bun-projects\n"
          ]
        }
      ]
    },
    {
      "cell_type": "code",
      "source": [
        "# Check for bun installation\n",
        "! echo $PATH\n",
        "%cd /root/.bun/\n",
        "! ls -al /root/"
      ],
      "metadata": {
        "colab": {
          "base_uri": "https://localhost:8080/"
        },
        "id": "kwcZ8W_lzuGC",
        "outputId": "5515d89a-a721-4192-fd43-b74c492a2402"
      },
      "execution_count": 4,
      "outputs": [
        {
          "output_type": "stream",
          "name": "stdout",
          "text": [
            "/opt/bin:/usr/local/nvidia/bin:/usr/local/cuda/bin:/usr/local/sbin:/usr/local/bin:/usr/sbin:/usr/bin:/sbin:/bin:/tools/node/bin:/tools/google-cloud-sdk/bin\n",
            "/root/.bun\n",
            "total 84\n",
            "drwx------ 1 root root 4096 Sep 23 10:07 .\n",
            "drwxr-xr-x 1 root root 4096 Sep 23 09:44 ..\n",
            "-r-xr-xr-x 1 root root 1391 Sep 23 11:18 .bashrc\n",
            "drwxr-xr-x 4 root root 4096 Sep 23 10:24 .bun\n",
            "drwxr-xr-x 1 root root 4096 Sep 21 14:05 .cache\n",
            "drwx------ 1 root root 4096 Sep 21 14:04 .config\n",
            "drwxr-xr-x 1 root root 4096 Sep 21 14:04 .ipython\n",
            "drwx------ 1 root root 4096 Sep 21 14:04 .jupyter\n",
            "drwxr-xr-x 2 root root 4096 Sep 21 14:02 .keras\n",
            "drwx------ 3 root root 4096 Sep 21 13:38 .launchpadlib\n",
            "drwxr-xr-x 1 root root 4096 Sep 21 14:04 .local\n",
            "drwxr-xr-x 1 root root 4096 Sep 23 10:52 .npm\n",
            "-rw-r--r-- 1 root root  161 Jul  9  2019 .profile\n",
            "-r-xr-xr-x 1 root root  254 Jan  1  2000 .tmux.conf\n",
            "-rw-r--r-- 1 root root  165 Sep 21 14:04 .wget-hsts\n"
          ]
        }
      ]
    },
    {
      "cell_type": "code",
      "source": [
        "! bun create react-app my-app\n"
      ],
      "metadata": {
        "id": "XmwtCugdoh3s"
      },
      "execution_count": null,
      "outputs": []
    },
    {
      "cell_type": "code",
      "source": [
        "%cd my-app\n"
      ],
      "metadata": {
        "colab": {
          "base_uri": "https://localhost:8080/"
        },
        "id": "99n9rQTWrFXI",
        "outputId": "07f133e9-4ad7-4f02-f9b1-fcf95c6ea1cb"
      },
      "execution_count": 6,
      "outputs": [
        {
          "output_type": "stream",
          "name": "stdout",
          "text": [
            "/content/bun-projects/my-app\n"
          ]
        }
      ]
    },
    {
      "cell_type": "code",
      "source": [
        "from google.colab.output import eval_js\n",
        "print(eval_js(\"google.colab.kernel.proxyPort(3000)\"))"
      ],
      "metadata": {
        "colab": {
          "base_uri": "https://localhost:8080/",
          "height": 35
        },
        "id": "DwJkWLzcwbpJ",
        "outputId": "f82070f5-3bb6-44ba-a40a-f7b38fb476f7"
      },
      "execution_count": 7,
      "outputs": [
        {
          "output_type": "stream",
          "name": "stdout",
          "text": [
            "https://zvy6a21gi6d-496ff2e9c6d22116-3000-colab.googleusercontent.com/\n"
          ]
        }
      ]
    },
    {
      "cell_type": "code",
      "source": [
        "!npm run start"
      ],
      "metadata": {
        "colab": {
          "base_uri": "https://localhost:8080/"
        },
        "id": "o2f1kRaHrPG3",
        "outputId": "245ed54d-cf14-484b-97b5-022cc0e55e12"
      },
      "execution_count": 8,
      "outputs": [
        {
          "output_type": "stream",
          "name": "stdout",
          "text": [
            "\n",
            "> my-app@0.1.0 start /content/bun-projects/my-app\n",
            "> react-scripts start\n",
            "\n",
            "(node:27710) [DEP_WEBPACK_DEV_SERVER_ON_AFTER_SETUP_MIDDLEWARE] DeprecationWarning: 'onAfterSetupMiddleware' option is deprecated. Please use the 'setupMiddlewares' option.\n",
            "(Use `node --trace-deprecation ...` to show where the warning was created)\n",
            "(node:27710) [DEP_WEBPACK_DEV_SERVER_ON_BEFORE_SETUP_MIDDLEWARE] DeprecationWarning: 'onBeforeSetupMiddleware' option is deprecated. Please use the 'setupMiddlewares' option.\n",
            "\u001b[2J\u001b[3J\u001b[H\u001b[36mStarting the development server...\u001b[39m\n",
            "\u001b[36m\u001b[39m\n",
            "\u001b[2J\u001b[3J\u001b[H\u001b[32mCompiled successfully!\u001b[39m\n",
            "\n",
            "You can now view \u001b[1mmy-app\u001b[22m in the browser.\n",
            "\n",
            "  \u001b[1mLocal:\u001b[22m            http://localhost:\u001b[1m3000\u001b[22m\n",
            "  \u001b[1mOn Your Network:\u001b[22m  http://172.28.0.12:\u001b[1m3000\u001b[22m\n",
            "\n",
            "Note that the development build is not optimized.\n",
            "To create a production build, use \u001b[36mnpm run build\u001b[39m.\n",
            "\n",
            "webpack compiled \u001b[1m\u001b[32msuccessfully\u001b[39m\u001b[22m\n",
            "\u001b[0;33mOne of your dependencies, babel-preset-react-app, is importing the\n",
            "\"@babel/plugin-proposal-private-property-in-object\" package without\n",
            "declaring it in its dependencies. This is currently working because\n",
            "\"@babel/plugin-proposal-private-property-in-object\" is already in your\n",
            "node_modules folder for unrelated reasons, but it \u001b[1mmay break at any time\u001b[0;33m.\n",
            "\n",
            "babel-preset-react-app is part of the create-react-app project, \u001b[1mwhich\n",
            "is not maintianed anymore\u001b[0;33m. It is thus unlikely that this bug will\n",
            "ever be fixed. Add \"@babel/plugin-proposal-private-property-in-object\" to\n",
            "your devDependencies to work around this error. This will make this message\n",
            "go away.\u001b[0m\n",
            "  \n",
            "^C\n"
          ]
        }
      ]
    }
  ]
}