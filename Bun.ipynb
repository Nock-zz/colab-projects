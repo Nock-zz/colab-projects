{
  "cells": [
    {
      "cell_type": "markdown",
      "metadata": {
        "id": "view-in-github",
        "colab_type": "text"
      },
      "source": [
        "<a href=\"https://colab.research.google.com/github/Nock-zz/colab-projects/blob/main/Bun.ipynb\" target=\"_parent\"><img src=\"https://colab.research.google.com/assets/colab-badge.svg\" alt=\"Open In Colab\"/></a>"
      ]
    },
    {
      "cell_type": "markdown",
      "source": [
        "# Check for bun installation and $PATH as well as bun-projects files"
      ],
      "metadata": {
        "id": "8XTp_TPOFTMC"
      }
    },
    {
      "cell_type": "code",
      "execution_count": null,
      "metadata": {
        "id": "kwcZ8W_lzuGC"
      },
      "outputs": [],
      "source": [
        "# Check for bun installation\n",
        "! echo $PATH\n",
        "! which bun\n",
        "%cd /content/bun-projects\n",
        "! ls -al /root/"
      ]
    },
    {
      "cell_type": "markdown",
      "metadata": {
        "id": "uC3BDn1kNqO9"
      },
      "source": [
        "# Always run this after each session expiry"
      ]
    },
    {
      "cell_type": "markdown",
      "source": [
        "### Mount Google Drive and bring in saved project data from last session"
      ],
      "metadata": {
        "id": "tCS_VZEFGt49"
      }
    },
    {
      "cell_type": "code",
      "execution_count": null,
      "metadata": {
        "colab": {
          "base_uri": "https://localhost:8080/"
        },
        "id": "3eZSRiu6Vhzg",
        "outputId": "7b59723b-ceb0-40c8-ed54-b4e2309afe17"
      },
      "outputs": [
        {
          "name": "stdout",
          "output_type": "stream",
          "text": [
            "Mounted at /content/drive\n"
          ]
        }
      ],
      "source": [
        "# mount google drive\n",
        "from google.colab import drive\n",
        "drive.mount('/content/drive')"
      ]
    },
    {
      "cell_type": "code",
      "execution_count": null,
      "metadata": {
        "id": "8acRtI5atHPj"
      },
      "outputs": [],
      "source": [
        "# Bring in data for the project saved at the end of last session\n",
        "from re import LOCALE\n",
        "# To bring in files from gdrive\n",
        "%cd /content/\n",
        "!ln -s /usr/local/share/jupyter/nbextensions ./\n",
        "# !ls -al\n",
        "!rsync -av /content/drive/My\\ Drive/Colab\\ Notebooks/BunTest/content/* /content/\n",
        "# !ls -al /content/nbextensions/\n",
        "!rsync -v /content/drive/My\\ Drive/Colab\\ Notebooks/BunTest/content/nbextensions/* /usr/local/share/jupyter/nbextensions/\n",
        "\n",
        "\n",
        "\n"
      ]
    },
    {
      "cell_type": "markdown",
      "source": [
        "### Install or re-install bun and set the env variable $PATH"
      ],
      "metadata": {
        "id": "sP5vxC-mG80t"
      }
    },
    {
      "cell_type": "code",
      "execution_count": null,
      "metadata": {
        "colab": {
          "base_uri": "https://localhost:8080/"
        },
        "id": "8-g2U-0YsRzK",
        "outputId": "e4491ffd-1511-435e-f46a-fa9f61844131"
      },
      "outputs": [
        {
          "name": "stdout",
          "output_type": "stream",
          "text": [
            "######################################################################## 100.0%\n",
            "\u001b[0;32mbun was installed successfully to \u001b[1;32m~/.bun/bin/bun \u001b[0m\n",
            "\n",
            "\u001b[0;2mAdded \"~/.bun/bin\" to $PATH in \"~/.bashrc\" \u001b[0m\n",
            "\n",
            "\u001b[0;2mTo get started, run: \u001b[0m\n",
            "\n",
            "\u001b[1m  source /root/.bashrc \u001b[0m\n",
            "\u001b[1m  bun --help \u001b[0m\n"
          ]
        }
      ],
      "source": [
        "# install bun\n",
        "! curl -fsSL https://bun.sh/install | bash\n"
      ]
    },
    {
      "cell_type": "code",
      "execution_count": null,
      "metadata": {
        "colab": {
          "base_uri": "https://localhost:8080/"
        },
        "id": "v6vRVqZcglR5",
        "outputId": "04149054-8b78-42fc-e7a3-828543fefb3d"
      },
      "outputs": [
        {
          "name": "stdout",
          "output_type": "stream",
          "text": [
            "/opt/bin:/usr/local/nvidia/bin:/usr/local/cuda/bin:/usr/local/sbin:/usr/local/bin:/usr/sbin:/usr/bin:/sbin:/bin:/tools/node/bin:/tools/google-cloud-sdk/bin\n",
            "/root/.bun/bin/bun\n",
            "1.0.3\n",
            "/content\n",
            "/content/bun-projects\n",
            "/content/bun-projects\n"
          ]
        }
      ],
      "source": [
        "# add the .bun bin to $PATH, create the bun-projects directory and check\n",
        "! echo $PATH\n",
        "\n",
        "import os\n",
        "os.environ['PATH'] += \":/root/.bun/bin\"\n",
        "\n",
        "! which bun\n",
        "! bun --version\n",
        "%cd /content/\n",
        "! mkdir -p bun-projects\n",
        "%cd bun-projects\n",
        "! pwd"
      ]
    },
    {
      "cell_type": "markdown",
      "metadata": {
        "id": "LIK583DmMqQa"
      },
      "source": [
        "# Only create my-app if not already imported from drive"
      ]
    },
    {
      "cell_type": "code",
      "execution_count": null,
      "metadata": {
        "colab": {
          "base_uri": "https://localhost:8080/"
        },
        "id": "d3H6ZbbnM6Iy",
        "outputId": "26ab51d1-6830-47fb-87d5-03d206032917"
      },
      "outputs": [
        {
          "name": "stdout",
          "output_type": "stream",
          "text": [
            "/content/bun-projects\n"
          ]
        }
      ],
      "source": [
        "%cd /content/bun-projects/"
      ]
    },
    {
      "cell_type": "code",
      "execution_count": null,
      "metadata": {
        "colab": {
          "base_uri": "https://localhost:8080/"
        },
        "id": "XmwtCugdoh3s",
        "outputId": "eb74bdcb-2f3e-429a-d9a8-3e5d8319eb52"
      },
      "outputs": [
        {
          "name": "stdout",
          "output_type": "stream",
          "text": [
            "  🔍 Resolving [1/1] \u001b[23D\u001b[0K  🚚 tar [216/236] \u001b[21D\u001b[0K  🚚 uid-number [261/260] \u001b[28D\u001b[0K  🔒 Saving lockfile... \u001b[26D\u001b[0K\n",
            "Creating a new React app in \u001b[32m/content/bun-projects/my-app\u001b[39m.\n",
            "\n",
            "Installing packages. This might take a couple of minutes.\n",
            "Installing \u001b[36mreact\u001b[39m, \u001b[36mreact-dom\u001b[39m, and \u001b[36mreact-scripts\u001b[39m with \u001b[36mcra-template\u001b[39m...\n",
            "\n",
            "\u001b[K\u001b[?25h\n",
            "> core-js@3.32.2 postinstall /content/bun-projects/my-app/node_modules/core-js\n",
            "> node -e \"try{require('./postinstall')}catch(e){}\"\n",
            "\n",
            "\n",
            "> core-js-pure@3.32.2 postinstall /content/bun-projects/my-app/node_modules/core-js-pure\n",
            "> node -e \"try{require('./postinstall')}catch(e){}\"\n",
            "\n",
            "\u001b[K\u001b[?25h+ react-scripts@5.0.1\n",
            "+ react-dom@18.2.0\n",
            "+ react@18.2.0\n",
            "+ cra-template@1.2.0\n",
            "added 1469 packages from 634 contributors in 107.454s\n",
            "\n",
            "241 packages are looking for funding\n",
            "  run `npm fund` for details\n",
            "\n",
            "\n",
            "\u001b[33m\u001b[39m\n",
            "\u001b[33m   ╭────────────────────────────────────────────────────────────────╮\u001b[39m\n",
            "   \u001b[33m│\u001b[39m                                                                \u001b[33m│\u001b[39m\n",
            "   \u001b[33m│\u001b[39m      New \u001b[31mmajor\u001b[39m version of npm available! \u001b[31m6.14.8\u001b[39m → \u001b[32m10.1.0\u001b[39m       \u001b[33m│\u001b[39m\n",
            "   \u001b[33m│\u001b[39m   \u001b[33mChangelog:\u001b[39m \u001b[36mhttps://github.com/npm/cli/releases/tag/v10.1.0\u001b[39m   \u001b[33m│\u001b[39m\n",
            "   \u001b[33m│\u001b[39m               Run \u001b[32mnpm install -g npm\u001b[39m to update!                \u001b[33m│\u001b[39m\n",
            "   \u001b[33m│\u001b[39m                                                                \u001b[33m│\u001b[39m\n",
            "\u001b[33m   ╰────────────────────────────────────────────────────────────────╯\u001b[39m\n",
            "\u001b[33m\u001b[39m\n",
            "\n",
            "Initialized a git repository.\n",
            "\n",
            "Installing template dependencies using npm...\n",
            "\u001b[K\u001b[?25h\u001b[37;40mnpm\u001b[0m \u001b[0m\u001b[30;43mWARN\u001b[0m\u001b[35m\u001b[0m @apideck/better-ajv-errors@0.3.6 requires a peer of ajv@>=8 but none is installed. You must install peer dependencies yourself.\n",
            "\u001b[0m\u001b[37;40mnpm\u001b[0m \u001b[0m\u001b[30;43mWARN\u001b[0m\u001b[35m\u001b[0m fork-ts-checker-webpack-plugin@6.5.3 requires a peer of typescript@>= 2.7 but none is installed. You must install peer dependencies yourself.\n",
            "\u001b[0m\u001b[37;40mnpm\u001b[0m \u001b[0m\u001b[30;43mWARN\u001b[0m\u001b[35m\u001b[0m tsutils@3.21.0 requires a peer of typescript@>=2.8.0 || >= 3.2.0-dev || >= 3.3.0-dev || >= 3.4.0-dev || >= 3.5.0-dev || >= 3.6.0-dev || >= 3.6.0-beta || >= 3.7.0-dev || >= 3.7.0-beta but none is installed. You must install peer dependencies yourself.\n",
            "\u001b[0m\u001b[37;40mnpm\u001b[0m \u001b[0m\u001b[30;43mWARN\u001b[0m \u001b[0m\u001b[35moptional\u001b[0m SKIPPING OPTIONAL DEPENDENCY: fsevents@2.3.3 (node_modules/fsevents):\n",
            "\u001b[0m\u001b[37;40mnpm\u001b[0m \u001b[0m\u001b[30;43mWARN\u001b[0m \u001b[0m\u001b[35mnotsup\u001b[0m SKIPPING OPTIONAL DEPENDENCY: Unsupported platform for fsevents@2.3.3: wanted {\"os\":\"darwin\",\"arch\":\"any\"} (current: {\"os\":\"linux\",\"arch\":\"x64\"})\n",
            "\u001b[0m\n",
            "+ web-vitals@2.1.4\n",
            "+ @testing-library/jest-dom@5.17.0\n",
            "+ @testing-library/react@13.4.0\n",
            "+ @testing-library/user-event@13.5.0\n",
            "added 61 packages from 86 contributors in 24.469s\n",
            "\n",
            "245 packages are looking for funding\n",
            "  run `npm fund` for details\n",
            "\n",
            "Removing template package using npm...\n",
            "\n",
            "\u001b[K\u001b[?25h\u001b[37;40mnpm\u001b[0m \u001b[0m\u001b[30;43mWARN\u001b[0m\u001b[35m\u001b[0m @apideck/better-ajv-errors@0.3.6 requires a peer of ajv@>=8 but none is installed. You must install peer dependencies yourself.\n",
            "\u001b[0m\u001b[37;40mnpm\u001b[0m \u001b[0m\u001b[30;43mWARN\u001b[0m\u001b[35m\u001b[0m fork-ts-checker-webpack-plugin@6.5.3 requires a peer of typescript@>= 2.7 but none is installed. You must install peer dependencies yourself.\n",
            "\u001b[0m\u001b[37;40mnpm\u001b[0m \u001b[0m\u001b[30;43mWARN\u001b[0m\u001b[35m\u001b[0m tsutils@3.21.0 requires a peer of typescript@>=2.8.0 || >= 3.2.0-dev || >= 3.3.0-dev || >= 3.4.0-dev || >= 3.5.0-dev || >= 3.6.0-dev || >= 3.6.0-beta || >= 3.7.0-dev || >= 3.7.0-beta but none is installed. You must install peer dependencies yourself.\n",
            "\u001b[0m\u001b[37;40mnpm\u001b[0m \u001b[0m\u001b[30;43mWARN\u001b[0m \u001b[0m\u001b[35moptional\u001b[0m SKIPPING OPTIONAL DEPENDENCY: fsevents@2.3.3 (node_modules/fsevents):\n",
            "\u001b[0m\u001b[37;40mnpm\u001b[0m \u001b[0m\u001b[30;43mWARN\u001b[0m \u001b[0m\u001b[35mnotsup\u001b[0m SKIPPING OPTIONAL DEPENDENCY: Unsupported platform for fsevents@2.3.3: wanted {\"os\":\"darwin\",\"arch\":\"any\"} (current: {\"os\":\"linux\",\"arch\":\"x64\"})\n",
            "\u001b[0m\n",
            "removed 1 package and audited 1530 packages in 13.307s\n",
            "\n",
            "245 packages are looking for funding\n",
            "  run `npm fund` for details\n",
            "\n",
            "found 1 \u001b[91mhigh\u001b[0m severity vulnerability\n",
            "  run `npm audit fix` to fix them, or `npm audit` for details\n",
            "\u001b[K\u001b[?25hGit commit not created Error: Command failed: git commit -m \"Initialize project using Create React App\"\n",
            "\u001b[90m    at checkExecSyncError (child_process.js:616:11)\u001b[39m\n",
            "\u001b[90m    at execSync (child_process.js:652:15)\u001b[39m\n",
            "    at tryGitCommit (/content/bun-projects/my-app/node_modules/\u001b[4mreact-scripts\u001b[24m/scripts/init.js:62:5)\n",
            "    at module.exports (/content/bun-projects/my-app/node_modules/\u001b[4mreact-scripts\u001b[24m/scripts/init.js:350:25)\n",
            "    at [eval]:3:14\n",
            "\u001b[90m    at Script.runInThisContext (vm.js:133:18)\u001b[39m\n",
            "\u001b[90m    at Object.runInThisContext (vm.js:310:38)\u001b[39m\n",
            "\u001b[90m    at internal/process/execution.js:77:19\u001b[39m\n",
            "    at [eval]-wrapper:6:22\n",
            "\u001b[90m    at evalScript (internal/process/execution.js:76:60)\u001b[39m {\n",
            "  status: \u001b[33m128\u001b[39m,\n",
            "  signal: \u001b[1mnull\u001b[22m,\n",
            "  output: [ \u001b[1mnull\u001b[22m, \u001b[1mnull\u001b[22m, \u001b[1mnull\u001b[22m ],\n",
            "  pid: \u001b[33m5903\u001b[39m,\n",
            "  stdout: \u001b[1mnull\u001b[22m,\n",
            "  stderr: \u001b[1mnull\u001b[22m\n",
            "}\n",
            "Removing .git directory...\n",
            "\n",
            "Success! Created my-app at /content/bun-projects/my-app\n",
            "Inside that directory, you can run several commands:\n",
            "\n",
            "\u001b[36m  npm start\u001b[39m\n",
            "    Starts the development server.\n",
            "\n",
            "\u001b[36m  npm run build\u001b[39m\n",
            "    Bundles the app into static files for production.\n",
            "\n",
            "\u001b[36m  npm test\u001b[39m\n",
            "    Starts the test runner.\n",
            "\n",
            "\u001b[36m  npm run eject\u001b[39m\n",
            "    Removes this tool and copies build dependencies, configuration files\n",
            "    and scripts into the app directory. If you do this, you can’t go back!\n",
            "\n",
            "We suggest that you begin by typing:\n",
            "\n",
            "\u001b[36m  cd\u001b[39m my-app\n",
            "  \u001b[36mnpm start\u001b[39m\n",
            "\n",
            "Happy hacking!\n"
          ]
        }
      ],
      "source": [
        "# run create react-app on bun-projects dir\n",
        "! bun create react-app my-app\n"
      ]
    },
    {
      "cell_type": "code",
      "execution_count": null,
      "metadata": {
        "colab": {
          "base_uri": "https://localhost:8080/"
        },
        "id": "99n9rQTWrFXI",
        "outputId": "b32c492f-6167-4440-a95f-7aef7c2a9f2d"
      },
      "outputs": [
        {
          "name": "stdout",
          "output_type": "stream",
          "text": [
            "/content/bun-projects/my-app\n"
          ]
        }
      ],
      "source": [
        "%cd my-app\n"
      ]
    },
    {
      "cell_type": "markdown",
      "source": [
        "# Get a colab link out to localhost:3000 <i>before</i> running the web server"
      ],
      "metadata": {
        "id": "vhPOGUlqJKXt"
      }
    },
    {
      "cell_type": "code",
      "execution_count": null,
      "metadata": {
        "colab": {
          "base_uri": "https://localhost:8080/",
          "height": 35
        },
        "id": "DwJkWLzcwbpJ",
        "outputId": "a0370020-1e4a-4852-8e4a-99bd6c0e5bc3"
      },
      "outputs": [
        {
          "output_type": "stream",
          "name": "stdout",
          "text": [
            "https://qt84jdcs1kh-496ff2e9c6d22116-3000-colab.googleusercontent.com/\n"
          ]
        }
      ],
      "source": [
        "# get a link form colab environment to localhost:3000\n",
        "from google.colab.output import eval_js\n",
        "print(eval_js(\"google.colab.kernel.proxyPort(3000)\"))"
      ]
    },
    {
      "cell_type": "code",
      "execution_count": null,
      "metadata": {
        "colab": {
          "base_uri": "https://localhost:8080/"
        },
        "id": "o2f1kRaHrPG3",
        "outputId": "6f653e64-0ddb-433e-e257-d70ba3fd9b20"
      },
      "outputs": [
        {
          "output_type": "stream",
          "name": "stdout",
          "text": [
            "/content/bun-projects/my-app\n",
            "\u001b[K\u001b[?25h\u001b[37;40mnpm\u001b[0m \u001b[0m\u001b[30;43mWARN\u001b[0m\u001b[35m\u001b[0m @apideck/better-ajv-errors@0.3.6 requires a peer of ajv@>=8 but none is installed. You must install peer dependencies yourself.\n",
            "\u001b[0m\u001b[37;40mnpm\u001b[0m \u001b[0m\u001b[30;43mWARN\u001b[0m\u001b[35m\u001b[0m fork-ts-checker-webpack-plugin@6.5.3 requires a peer of typescript@>= 2.7 but none is installed. You must install peer dependencies yourself.\n",
            "\u001b[0m\u001b[37;40mnpm\u001b[0m \u001b[0m\u001b[30;43mWARN\u001b[0m\u001b[35m\u001b[0m tsutils@3.21.0 requires a peer of typescript@>=2.8.0 || >= 3.2.0-dev || >= 3.3.0-dev || >= 3.4.0-dev || >= 3.5.0-dev || >= 3.6.0-dev || >= 3.6.0-beta || >= 3.7.0-dev || >= 3.7.0-beta but none is installed. You must install peer dependencies yourself.\n",
            "\u001b[0m\u001b[37;40mnpm\u001b[0m \u001b[0m\u001b[30;43mWARN\u001b[0m \u001b[0m\u001b[35moptional\u001b[0m SKIPPING OPTIONAL DEPENDENCY: fsevents@2.3.3 (node_modules/fsevents):\n",
            "\u001b[0m\u001b[37;40mnpm\u001b[0m \u001b[0m\u001b[30;43mWARN\u001b[0m \u001b[0m\u001b[35mnotsup\u001b[0m SKIPPING OPTIONAL DEPENDENCY: Unsupported platform for fsevents@2.3.3: wanted {\"os\":\"darwin\",\"arch\":\"any\"} (current: {\"os\":\"linux\",\"arch\":\"x64\"})\n",
            "\u001b[0m\n",
            "\u001b[K\u001b[?25haudited 1530 packages in 11.907s\n",
            "\n",
            "245 packages are looking for funding\n",
            "  run `npm fund` for details\n",
            "\n",
            "found 1 \u001b[91mhigh\u001b[0m severity vulnerability\n",
            "  run `npm audit fix` to fix them, or `npm audit` for details\n",
            "\u001b[K\u001b[?25h\n",
            "> my-app@0.1.0 start /content/bun-projects/my-app\n",
            "> react-scripts start\n",
            "\n",
            "(node:13071) [DEP_WEBPACK_DEV_SERVER_ON_AFTER_SETUP_MIDDLEWARE] DeprecationWarning: 'onAfterSetupMiddleware' option is deprecated. Please use the 'setupMiddlewares' option.\n",
            "(Use `node --trace-deprecation ...` to show where the warning was created)\n",
            "(node:13071) [DEP_WEBPACK_DEV_SERVER_ON_BEFORE_SETUP_MIDDLEWARE] DeprecationWarning: 'onBeforeSetupMiddleware' option is deprecated. Please use the 'setupMiddlewares' option.\n",
            "\u001b[2J\u001b[3J\u001b[H\u001b[36mStarting the development server...\u001b[39m\n",
            "\u001b[36m\u001b[39m\n",
            "\u001b[2J\u001b[3J\u001b[H\u001b[32mCompiled successfully!\u001b[39m\n",
            "\n",
            "You can now view \u001b[1mmy-app\u001b[22m in the browser.\n",
            "\n",
            "  \u001b[1mLocal:\u001b[22m            http://localhost:\u001b[1m3000\u001b[22m\n",
            "  \u001b[1mOn Your Network:\u001b[22m  http://172.28.0.2:\u001b[1m3000\u001b[22m\n",
            "\n",
            "Note that the development build is not optimized.\n",
            "To create a production build, use \u001b[36mnpm run build\u001b[39m.\n",
            "\n",
            "webpack compiled \u001b[1m\u001b[32msuccessfully\u001b[39m\u001b[22m\n"
          ]
        }
      ],
      "source": [
        "# start the web server\n",
        "%cd /content/bun-projects/my-app\n",
        "!npm install\n",
        "!npm run start"
      ]
    },
    {
      "cell_type": "markdown",
      "source": [
        "# Before end of session save the project files to Google Drive"
      ],
      "metadata": {
        "id": "8RHr1hjnJ98D"
      }
    },
    {
      "cell_type": "code",
      "execution_count": null,
      "metadata": {
        "colab": {
          "base_uri": "https://localhost:8080/"
        },
        "id": "QfO_FF9kLIXp",
        "outputId": "dfe54496-b46b-4d23-ca00-40f32928fd11"
      },
      "outputs": [
        {
          "name": "stdout",
          "output_type": "stream",
          "text": [
            "sending incremental file list\n",
            "content/\n",
            "content/bun-projects/\n",
            "content/bun-projects/my-app/\n",
            "content/bun-projects/my-app/.gitignore\n",
            "content/bun-projects/my-app/README.md\n",
            "content/bun-projects/my-app/package-lock.json\n",
            "content/bun-projects/my-app/package.json\n",
            "content/bun-projects/my-app/public/\n",
            "content/bun-projects/my-app/public/favicon.ico\n",
            "content/bun-projects/my-app/public/index.html\n",
            "content/bun-projects/my-app/public/logo192.png\n",
            "content/bun-projects/my-app/public/logo512.png\n",
            "content/bun-projects/my-app/public/manifest.json\n",
            "content/bun-projects/my-app/public/robots.txt\n",
            "content/bun-projects/my-app/src/\n",
            "content/bun-projects/my-app/src/App.css\n",
            "content/bun-projects/my-app/src/App.js\n",
            "content/bun-projects/my-app/src/App.test.js\n",
            "content/bun-projects/my-app/src/index.css\n",
            "content/bun-projects/my-app/src/index.js\n",
            "content/bun-projects/my-app/src/logo.svg\n",
            "content/bun-projects/my-app/src/reportWebVitals.js\n",
            "content/bun-projects/my-app/src/setupTests.js\n",
            "\n",
            "sent 593,026 bytes  received 382 bytes  1,186,816.00 bytes/sec\n",
            "total size is 591,467  speedup is 1.00\n",
            "skipping directory bqplot\n",
            "skipping directory google.colab\n",
            "skipping directory ipytree\n",
            "skipping directory jupyter-js-widgets\n",
            "skipping directory jupyterlab-plotly\n",
            "skipping directory jupyter-leaflet\n",
            "created directory /content/drive/My Drive/Colab Notebooks/BunTest/content/nbextensions\n",
            "\n",
            "sent 17 bytes  received 103 bytes  240.00 bytes/sec\n",
            "total size is 0  speedup is 0.00\n",
            "/content/drive/My Drive/Colab Notebooks/BunTest/content\n",
            "total 8\n",
            "drwx------ 3 root root 4096 Sep 23 14:08 bun-projects\n",
            "drwx------ 2 root root 4096 Sep 23 14:12 nbextensions\n",
            "/content/drive/My Drive/Colab Notebooks/BunTest/content/nbextensions\n",
            "total 0\n"
          ]
        }
      ],
      "source": [
        "# to persist files to gdrive (change directory to be colab filename)\n",
        "# files will be wiped in at best 12 hours\n",
        "\n",
        "!rsync -av --exclude=\"/content/adc.json\" --exclude='/content/drive' --exclude='/content/.config' --exclude='/content/sample_data' --exclude='/content/bun-projects/my-app/node_modules' --exclude='/content/nbextensions' /content /content/drive/My\\ Drive/Colab\\ Notebooks/BunTest\n",
        "!rsync -v /usr/local/share/jupyter/nbextensions/* /content/drive/My\\ Drive/Colab\\ Notebooks/BunTest/content/nbextensions/\n",
        "%cd /content/drive/My\\ Drive/Colab\\ Notebooks/BunTest/content/\n",
        "!ls -al\n",
        "%cd /content/drive/My\\ Drive/Colab\\ Notebooks/BunTest/content/nbextensions/\n",
        "!ls -al"
      ]
    },
    {
      "cell_type": "code",
      "execution_count": null,
      "metadata": {
        "id": "zatfUJSBQvP1"
      },
      "outputs": [],
      "source": [
        "# use this to run any commands you want to check\n",
        "%cd /content/\n",
        "! ln -s /usr/local/share/jupyter/nbextensions ./\n",
        "! ls -al /usr/local/share/jupyter/nbextensions/\n",
        "! ls -al /content/nbextensions/"
      ]
    },
    {
      "cell_type": "markdown",
      "source": [
        "## When done then unmount google drive"
      ],
      "metadata": {
        "id": "H5s_sWKlKRiK"
      }
    },
    {
      "cell_type": "code",
      "execution_count": null,
      "metadata": {
        "id": "U8ErG5ndUJAH"
      },
      "outputs": [],
      "source": [
        "# When done with session run unmount on google drive\n",
        "from google.colab import drive\n",
        "drive.flush_and_unmount()"
      ]
    }
  ],
  "metadata": {
    "colab": {
      "provenance": [],
      "toc_visible": true,
      "mount_file_id": "13aEfxFdHMuaDA-3OBBRYqKQsg5ZaGz8N",
      "authorship_tag": "ABX9TyMAdFFJ/qG4dWoWY0VdBgdk",
      "include_colab_link": true
    },
    "kernelspec": {
      "display_name": "Python 3",
      "name": "python3"
    },
    "language_info": {
      "name": "python"
    }
  },
  "nbformat": 4,
  "nbformat_minor": 0
}